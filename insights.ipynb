{
 "cells": [
  {
   "cell_type": "markdown",
   "metadata": {},
   "source": [
    "# Greenpeace International Insights Team\n",
    "\n",
    "## Facebook report 2017\n",
    "\n",
    "Built using [Jupyter Lab](https://jupyterlab.readthedocs.io/en/latest/), a Python framework for working with data.\n",
    "\n",
    "Data source from the Google Spreadsheet [FB Analysis 2017](https://docs.google.com/spreadsheets/d/13mGoZBTZ7PvzOwFNYZCFe8L1q5ICSexD-sUrcfEp6k4/edit#gid=1739593191) and imported here as csv with corrections made for column headers and index seat to NRO names.\n",
    "\n",
    "__This document is using live data and is editable but you can't save your work here.__\n",
    "\n",
    "Please play and experiment as much as you want but changes will need to be submitted back to the Git repository currently hosted at <https://github.com/gyaresu/insights>\n",
    "\n",
    "<gareth@greenpeace.org>"
   ]
  },
  {
   "cell_type": "code",
   "execution_count": 2,
   "metadata": {},
   "outputs": [
    {
     "data": {
      "text/plain": [
       "<matplotlib.figure.Figure at 0x108da3240>"
      ]
     },
     "metadata": {},
     "output_type": "display_data"
    },
    {
     "data": {
      "text/plain": [
       "<matplotlib.figure.Figure at 0x10f37c7f0>"
      ]
     },
     "metadata": {},
     "output_type": "display_data"
    },
    {
     "data": {
      "text/plain": [
       "<matplotlib.figure.Figure at 0x110580e48>"
      ]
     },
     "metadata": {},
     "output_type": "display_data"
    }
   ],
   "source": [
    "import numpy as np\n",
    "import pandas as pd\n",
    "import requests\n",
    "import io\n",
    "import matplotlib.pyplot as plt\n",
    "import seaborn as sns\n",
    "sns.set(color_codes=True)\n",
    "\n",
    "# Google Spreadsheet: \"Fb Analysis 2017\"\n",
    "url = 'https://docs.google.com/spreadsheets/d/e/2PACX-1vS31wVJrsgO_dxqgvDQipkdySgF3cMfP9M3fhnce5bcGutq_I_q0M7cAwyLwGGifvJm4epJoXfXmxat/pub?output=csv'\n",
    "\n",
    "# Read the file as a CSV. Set the correct row and columns for headers and index.\n",
    "# Tell Pandas that the columns with numbers are using commas for separators.\n",
    "df = pd.read_csv(url, encoding = 'utf8', header=3, index_col = 'Page', thousands=',')\n",
    "\n",
    "# Get rid of the random empty column\n",
    "df = df.drop(columns=['Unnamed: 0'], axis=1)\n",
    "\n",
    "# Convert the percentages (30%) to decimal (0.03)\n",
    "df['Page Performance Index'] = df['Page Performance Index'].str.rstrip('%').astype('float') / 100.0\n",
    "df['Growth (rate)'] = df['Growth (rate)'].str.rstrip('%').astype('float') / 100.0\n",
    "df['Engagement'] = df['Engagement'].str.rstrip('%').astype('float') / 100.0\n",
    "df['Weighted Engagement'] = df['Weighted Engagement'].str.rstrip('%').astype('float') / 100.0\n",
    "df['Post interaction'] = df['Post interaction'].str.rstrip('%').astype('float') / 100.0\n",
    "\n",
    "# For testing: Show the types of each column\n",
    "#df.dtypes\n",
    "\n",
    "# For testing: Show the first 5 rows\n",
    "#df.head(5)\n",
    "\n",
    "# Box plot\n",
    "df.plot(kind='box', x='Posts per day', y='Engagement', logy=False, logx=False)#, s='Number of fans')\n",
    "\n",
    "# Scatter plot\n",
    "df.plot(kind='scatter', x='Posts per day', y='Engagement', logy=False, logx=False)#, s='Number of fans')\n",
    "plt.ylabel('Engagement (perentage)')\n",
    "plt.xlabel('Posts per day')\n",
    "\n",
    "# Seaborn scatter plot\n",
    "sns.lmplot(x='Posts per day', y='Engagement', data=df)\n",
    "plt.show()\n"
   ]
  },
  {
   "cell_type": "markdown",
   "metadata": {},
   "source": [
    "# Playing with the data set"
   ]
  },
  {
   "cell_type": "code",
   "execution_count": 12,
   "metadata": {},
   "outputs": [
    {
     "name": "stdout",
     "output_type": "stream",
     "text": [
      "<class 'pandas.core.frame.DataFrame'>\n",
      "Index: 51 entries, Greenpeace UK to Greenpeace Cambodia\n",
      "Data columns (total 13 columns):\n",
      "Page Performance Index    51 non-null float64\n",
      "Number of fans            51 non-null int64\n",
      "Growth (rate)             51 non-null float64\n",
      "Growth (absolute)         51 non-null int64\n",
      "Engagement                51 non-null float64\n",
      "Weighted Engagement       51 non-null float64\n",
      "Post interaction          51 non-null float64\n",
      "Response time             50 non-null object\n",
      "Posts per day             51 non-null float64\n",
      "Total reach               51 non-null int64\n",
      "Total reach (organic)     51 non-null int64\n",
      "Total reach (viral)       51 non-null int64\n",
      "Total reach (paid)        51 non-null int64\n",
      "dtypes: float64(6), int64(6), object(1)\n",
      "memory usage: 8.1+ KB\n"
     ]
    }
   ],
   "source": [
    "# What are the data types of each column? Are then any Null values?\n",
    "df.info()"
   ]
  },
  {
   "cell_type": "code",
   "execution_count": 4,
   "metadata": {},
   "outputs": [
    {
     "data": {
      "text/html": [
       "<div>\n",
       "<style scoped>\n",
       "    .dataframe tbody tr th:only-of-type {\n",
       "        vertical-align: middle;\n",
       "    }\n",
       "\n",
       "    .dataframe tbody tr th {\n",
       "        vertical-align: top;\n",
       "    }\n",
       "\n",
       "    .dataframe thead th {\n",
       "        text-align: right;\n",
       "    }\n",
       "</style>\n",
       "<table border=\"1\" class=\"dataframe\">\n",
       "  <thead>\n",
       "    <tr style=\"text-align: right;\">\n",
       "      <th></th>\n",
       "      <th>Page Performance Index</th>\n",
       "      <th>Number of fans</th>\n",
       "      <th>Growth (rate)</th>\n",
       "      <th>Growth (absolute)</th>\n",
       "      <th>Engagement</th>\n",
       "      <th>Weighted Engagement</th>\n",
       "      <th>Post interaction</th>\n",
       "      <th>Response time</th>\n",
       "      <th>Posts per day</th>\n",
       "      <th>Total reach</th>\n",
       "      <th>Total reach (organic)</th>\n",
       "      <th>Total reach (viral)</th>\n",
       "      <th>Total reach (paid)</th>\n",
       "    </tr>\n",
       "    <tr>\n",
       "      <th>Page</th>\n",
       "      <th></th>\n",
       "      <th></th>\n",
       "      <th></th>\n",
       "      <th></th>\n",
       "      <th></th>\n",
       "      <th></th>\n",
       "      <th></th>\n",
       "      <th></th>\n",
       "      <th></th>\n",
       "      <th></th>\n",
       "      <th></th>\n",
       "      <th></th>\n",
       "      <th></th>\n",
       "    </tr>\n",
       "  </thead>\n",
       "  <tbody>\n",
       "    <tr>\n",
       "      <th>Greenpeace UK</th>\n",
       "      <td>0.35</td>\n",
       "      <td>670045</td>\n",
       "      <td>0.129</td>\n",
       "      <td>86103</td>\n",
       "      <td>0.0206</td>\n",
       "      <td>0.0312</td>\n",
       "      <td>0.0037</td>\n",
       "      <td>21.4</td>\n",
       "      <td>5.5</td>\n",
       "      <td>288883776</td>\n",
       "      <td>66340536</td>\n",
       "      <td>149248153</td>\n",
       "      <td>88618920</td>\n",
       "    </tr>\n",
       "    <tr>\n",
       "      <th>Greenpeace Polska</th>\n",
       "      <td>0.53</td>\n",
       "      <td>190284</td>\n",
       "      <td>0.300</td>\n",
       "      <td>57037</td>\n",
       "      <td>0.0181</td>\n",
       "      <td>0.0360</td>\n",
       "      <td>0.0105</td>\n",
       "      <td>17.8</td>\n",
       "      <td>1.7</td>\n",
       "      <td>86449332</td>\n",
       "      <td>19472831</td>\n",
       "      <td>60607282</td>\n",
       "      <td>8640684</td>\n",
       "    </tr>\n",
       "    <tr>\n",
       "      <th>Greenpeace 綠色和平 - 香港網站 Hong Kong</th>\n",
       "      <td>0.27</td>\n",
       "      <td>169781</td>\n",
       "      <td>0.125</td>\n",
       "      <td>21142</td>\n",
       "      <td>0.0132</td>\n",
       "      <td>0.0172</td>\n",
       "      <td>0.0051</td>\n",
       "      <td>-</td>\n",
       "      <td>2.6</td>\n",
       "      <td>61286002</td>\n",
       "      <td>13811989</td>\n",
       "      <td>20518967</td>\n",
       "      <td>30161031</td>\n",
       "    </tr>\n",
       "    <tr>\n",
       "      <th>Greenpeace Norge</th>\n",
       "      <td>0.33</td>\n",
       "      <td>29944</td>\n",
       "      <td>0.172</td>\n",
       "      <td>5159</td>\n",
       "      <td>0.0131</td>\n",
       "      <td>0.0163</td>\n",
       "      <td>0.0053</td>\n",
       "      <td>74.8</td>\n",
       "      <td>2.5</td>\n",
       "      <td>7024287</td>\n",
       "      <td>2143136</td>\n",
       "      <td>3915165</td>\n",
       "      <td>1375803</td>\n",
       "    </tr>\n",
       "    <tr>\n",
       "      <th>Greenpeace Österreich - Austria</th>\n",
       "      <td>0.34</td>\n",
       "      <td>103863</td>\n",
       "      <td>0.204</td>\n",
       "      <td>21168</td>\n",
       "      <td>0.0121</td>\n",
       "      <td>0.0208</td>\n",
       "      <td>0.0066</td>\n",
       "      <td>16.2</td>\n",
       "      <td>1.8</td>\n",
       "      <td>55004589</td>\n",
       "      <td>8584537</td>\n",
       "      <td>27970560</td>\n",
       "      <td>21530253</td>\n",
       "    </tr>\n",
       "  </tbody>\n",
       "</table>\n",
       "</div>"
      ],
      "text/plain": [
       "                                  Page Performance Index  Number of fans  \\\n",
       "Page                                                                       \n",
       "Greenpeace UK                                       0.35          670045   \n",
       "Greenpeace Polska                                   0.53          190284   \n",
       "Greenpeace 綠色和平 - 香港網站 Hong Kong                    0.27          169781   \n",
       "Greenpeace Norge                                    0.33           29944   \n",
       "Greenpeace Österreich - Austria                     0.34          103863   \n",
       "\n",
       "                                  Growth (rate)  Growth (absolute)  \\\n",
       "Page                                                                 \n",
       "Greenpeace UK                             0.129              86103   \n",
       "Greenpeace Polska                         0.300              57037   \n",
       "Greenpeace 綠色和平 - 香港網站 Hong Kong          0.125              21142   \n",
       "Greenpeace Norge                          0.172               5159   \n",
       "Greenpeace Österreich - Austria           0.204              21168   \n",
       "\n",
       "                                  Engagement  Weighted Engagement  \\\n",
       "Page                                                                \n",
       "Greenpeace UK                         0.0206               0.0312   \n",
       "Greenpeace Polska                     0.0181               0.0360   \n",
       "Greenpeace 綠色和平 - 香港網站 Hong Kong      0.0132               0.0172   \n",
       "Greenpeace Norge                      0.0131               0.0163   \n",
       "Greenpeace Österreich - Austria       0.0121               0.0208   \n",
       "\n",
       "                                  Post interaction Response time  \\\n",
       "Page                                                               \n",
       "Greenpeace UK                               0.0037          21.4   \n",
       "Greenpeace Polska                           0.0105          17.8   \n",
       "Greenpeace 綠色和平 - 香港網站 Hong Kong            0.0051             -   \n",
       "Greenpeace Norge                            0.0053          74.8   \n",
       "Greenpeace Österreich - Austria             0.0066          16.2   \n",
       "\n",
       "                                  Posts per day  Total reach  \\\n",
       "Page                                                           \n",
       "Greenpeace UK                               5.5    288883776   \n",
       "Greenpeace Polska                           1.7     86449332   \n",
       "Greenpeace 綠色和平 - 香港網站 Hong Kong            2.6     61286002   \n",
       "Greenpeace Norge                            2.5      7024287   \n",
       "Greenpeace Österreich - Austria             1.8     55004589   \n",
       "\n",
       "                                  Total reach (organic)  Total reach (viral)  \\\n",
       "Page                                                                           \n",
       "Greenpeace UK                                  66340536            149248153   \n",
       "Greenpeace Polska                              19472831             60607282   \n",
       "Greenpeace 綠色和平 - 香港網站 Hong Kong               13811989             20518967   \n",
       "Greenpeace Norge                                2143136              3915165   \n",
       "Greenpeace Österreich - Austria                 8584537             27970560   \n",
       "\n",
       "                                  Total reach (paid)  \n",
       "Page                                                  \n",
       "Greenpeace UK                               88618920  \n",
       "Greenpeace Polska                            8640684  \n",
       "Greenpeace 綠色和平 - 香港網站 Hong Kong            30161031  \n",
       "Greenpeace Norge                             1375803  \n",
       "Greenpeace Österreich - Austria             21530253  "
      ]
     },
     "execution_count": 4,
     "metadata": {},
     "output_type": "execute_result"
    }
   ],
   "source": [
    "# Show the first 5 rows\n",
    "df.head(5)"
   ]
  },
  {
   "cell_type": "code",
   "execution_count": 5,
   "metadata": {},
   "outputs": [
    {
     "name": "stdout",
     "output_type": "stream",
     "text": [
      "4,355,410,640\n",
      "Over 4 Billion acts of courage! Zomg!!!\n"
     ]
    }
   ],
   "source": [
    "# What about if we add up the total reach of every NRO?\n",
    "summed = df['Total reach'].sum()\n",
    "\n",
    "# And then format the number to use comma separators\n",
    "print(\"{:,}\".format(summed))\n",
    "\n",
    "# Incredible!\n",
    "print(\"Over 4 Billion acts of courage! Zomg!!!\")"
   ]
  },
  {
   "cell_type": "code",
   "execution_count": 55,
   "metadata": {},
   "outputs": [
    {
     "data": {
      "text/plain": [
       "<matplotlib.axes._subplots.AxesSubplot at 0x1a1b1ff7f0>"
      ]
     },
     "execution_count": 55,
     "metadata": {},
     "output_type": "execute_result"
    },
    {
     "data": {
      "image/png": "[encoded data removed]",
      "text/plain": [
       "<matplotlib.figure.Figure at 0x1a1aacac18>"
      ]
     },
     "metadata": {},
     "output_type": "display_data"
    }
   ],
   "source": [
    "#df['Engagement'].plot(kind='bar')\n",
    "#sns.barplot(df['Engagement'])\n",
    "#df.columns.values\n",
    "df['Engagement'].plot(kind='bar')"
   ]
  },
  {
   "cell_type": "code",
   "execution_count": null,
   "metadata": {},
   "outputs": [],
   "source": []
  }
 ],
 "metadata": {
  "kernelspec": {
   "display_name": "Python 3",
   "language": "python",
   "name": "python3"
  },
  "language_info": {
   "codemirror_mode": {
    "name": "ipython",
    "version": 3
   },
   "file_extension": ".py",
   "mimetype": "text/x-python",
   "name": "python",
   "nbconvert_exporter": "python",
   "pygments_lexer": "ipython3",
   "version": "3.6.4"
  }
 },
 "nbformat": 4,
 "nbformat_minor": 2
}
